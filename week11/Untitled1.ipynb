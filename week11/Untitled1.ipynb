{
 "cells": [
  {
   "cell_type": "code",
   "execution_count": 3,
   "metadata": {
    "collapsed": false
   },
   "outputs": [
    {
     "name": "stdout",
     "output_type": "stream",
     "text": [
      "3dClustSim -mask /scratch/PSB6351_2017/ds008_R2.0.0/preproc/anat_masks/sub-01/masks/_subject_id_sub-01/wb_warped.nii.gz -acf 0.85401361 2.21746831 10.1056134 -nodec -pthr 0.01 0.001 -athr 0.05\n",
      "3dClustSim -mask /scratch/PSB6351_2017/ds008_R2.0.0/preproc/anat_masks/sub-01/masks/_subject_id_sub-01/wb_warped.nii.gz -acf 0.61621029 3.13289962 9.11733052 -nodec -pthr 0.01 0.001 -athr 0.05\n",
      "3dClustSim -mask /scratch/PSB6351_2017/ds008_R2.0.0/preproc/anat_masks/sub-01/masks/_subject_id_sub-01/wb_warped.nii.gz -acf 0.4354184 4.97547781 11.0226794 -nodec -pthr 0.01 0.001 -athr 0.05\n",
      "3dClustSim -mask /scratch/PSB6351_2017/ds008_R2.0.0/preproc/anat_masks/sub-01/masks/_subject_id_sub-01/wb_warped.nii.gz -acf 0.43399844 6.96919148 13.424075 -nodec -pthr 0.01 0.001 -athr 0.05\n"
     ]
    }
   ],
   "source": [
    "acfs = [[  0.85401361, 2.21746831, 10.1056134, 4.02482614],\n",
    "        [  0.61621029, 3.13289962, 9.11733052, 8.34997157],\n",
    "        [  0.4354184, 4.97547781, 11.0226794, 12.94166905],\n",
    "        [  0.43399844, 6.96919148, 13.424075, 17.18273571]]\n",
    "\n",
    "for sm in acfs:\n",
    "    t = [str(i) for i in sm]\n",
    "    acf = ' '.join(t[:-1])\n",
    "    cmd_string = ('3dClustSim -mask /scratch/PSB6351_2017/'\n",
    "                  'ds008_R2.0.0/preproc/anat_masks/sub-01/'\n",
    "                  'masks/_subject_id_sub-01/wb_warped.nii.gz '\n",
    "                  '-acf {0} -nodec -pthr 0.01 0.001 -athr 0.05'.format(acf))\n",
    "    print cmd_string"
   ]
  },
  {
   "cell_type": "code",
   "execution_count": null,
   "metadata": {
    "collapsed": true
   },
   "outputs": [],
   "source": [
    "[8, 25, 65, 96]"
   ]
  }
 ],
 "metadata": {
  "kernelspec": {
   "display_name": "Python [default]",
   "language": "python",
   "name": "python2"
  },
  "language_info": {
   "codemirror_mode": {
    "name": "ipython",
    "version": 2
   },
   "file_extension": ".py",
   "mimetype": "text/x-python",
   "name": "python",
   "nbconvert_exporter": "python",
   "pygments_lexer": "ipython2",
   "version": "2.7.12"
  }
 },
 "nbformat": 4,
 "nbformat_minor": 1
}
