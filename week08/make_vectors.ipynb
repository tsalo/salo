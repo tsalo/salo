{
 "cells": [
  {
   "cell_type": "code",
   "execution_count": 1,
   "metadata": {
    "collapsed": false
   },
   "outputs": [],
   "source": [
    "%matplotlib inline\n",
    "import re\n",
    "import numpy as np\n",
    "import pandas as pd\n",
    "from glob import glob\n",
    "import matplotlib.pyplot as plt\n",
    "from os import mkdir\n",
    "from os.path import basename, join, isfile, isdir"
   ]
  },
  {
   "cell_type": "code",
   "execution_count": 2,
   "metadata": {
    "collapsed": false
   },
   "outputs": [
    {
     "name": "stdout",
     "output_type": "stream",
     "text": [
      "sub-11 run-03 functional data DNE.\n",
      "sub-12 run-03 functional data DNE.\n"
     ]
    }
   ],
   "source": [
    "conditions = ['go', 'failed stop', 'junk', 'successful stop']\n",
    "fix_len = 0.5  # Fixation ring on screen for 500ms before arrow appears\n",
    "\n",
    "data_dir = '/scratch/PSB6351_2017/ds008_R2.0.0/'\n",
    "ev_dir = '/scratch/PSB6351_2017/students/salo/data/'\n",
    "subjects = [basename(s) for s in glob(join(data_dir, 'sub-*'))]\n",
    "ISIs = np.array([])\n",
    "for s in subjects:\n",
    "    tsvs = sorted(glob(join(data_dir, s, 'func/{0}_task-stopsignal_run-*_events.tsv'.format(s))))\n",
    "    for tsv in tsvs:\n",
    "        run_name = re.search('(run-[0-9][0-9])', tsv).group(0)\n",
    "        func_file = join(data_dir, s, 'func/{0}_task-stopsignal_{1}_bold.nii.gz'.format(s, run_name))\n",
    "        if not isfile(func_file):\n",
    "            print('{0} {1} functional data DNE.'.format(s, run_name))\n",
    "        else:\n",
    "            df = pd.read_csv(tsv, sep='\\t')\n",
    "            df['good_trials'] = pd.to_numeric(df['duration'], errors='coerce')\n",
    "            df.dropna(subset=['good_trials'], inplace=True)\n",
    "            df['trial_length'] = df['response_time'].astype(float) + fix_len\n",
    "            idx = df['response_time']==0.\n",
    "            df.loc[idx, 'trial_length'] = df.loc[idx, 'duration'].astype(float)\n",
    "            ITIs = np.diff(df['onset'])\n",
    "            trial_lengths = df['trial_length'].values\n",
    "            ISIs = np.concatenate((ISIs, ITIs-trial_lengths[:len(ITIs)]))\n",
    "            for c in conditions:\n",
    "                c_name = c.replace(' ', '_')\n",
    "                red_df = df.loc[df['trial_type']==c]\n",
    "                \n",
    "                if red_df.shape[0]>0:\n",
    "                    # Extract relevant fields from red_df, use RT as amplitude\n",
    "                    rt_amp = red_df[['onset', 'duration', 'trial_length']].values.astype(float)\n",
    "                    rt_dur = red_df[['onset', 'trial_length']].values.astype(float)\n",
    "                    rt_dur = np.concatenate((rt_dur, np.ones((rt_dur.shape[0], 1))), axis=1)\n",
    "\n",
    "                    # Mean center parametric modulator to 1\n",
    "                    rt_amp[:, -1] = rt_amp[:, -1] - (np.mean(rt_amp[:, -1]) - 1)\n",
    "\n",
    "                    # Write out EV files\n",
    "                    if not isdir(join(ev_dir, 'EVs_RTamp/{0}/'.format(s))):\n",
    "                        mkdir(join(ev_dir, 'EVs_RTamp/{0}/'.format(s)))\n",
    "                    \n",
    "                    if not isdir(join(ev_dir, 'EVs_RTdur/{0}/'.format(s))):\n",
    "                        mkdir(join(ev_dir, 'EVs_RTdur/{0}/'.format(s)))\n",
    "                    \n",
    "                    rt_amp_name = 'EVs_RTamp/{0}/{1}.{2}.txt'.format(s, c_name, run_name)\n",
    "                    np.savetxt(join(ev_dir, rt_amp_name), rt_amp, delimiter='\\t', fmt='%.4f')\n",
    "\n",
    "                    rt_dur_name = 'EVs_RTdur/{0}/{1}.{2}.txt'.format(s, c_name, run_name)\n",
    "                    np.savetxt(join(ev_dir, rt_dur_name), rt_dur, delimiter='\\t', fmt='%.4f')"
   ]
  },
  {
   "cell_type": "code",
   "execution_count": 3,
   "metadata": {
    "collapsed": false
   },
   "outputs": [
    {
     "name": "stderr",
     "output_type": "stream",
     "text": [
      "/home/data/nbc/ns-vs-bm/ns-vs-bm/env/lib/python2.7/site-packages/matplotlib/figure.py:397: UserWarning: matplotlib is currently using a non-GUI backend, so cannot show the figure\n",
      "  \"matplotlib is currently using a non-GUI backend, \"\n"
     ]
    },
    {
     "name": "stdout",
     "output_type": "stream",
     "text": [
      "Mean ISI is 1.81923692004\n"
     ]
    },
    {
     "data": {
      "image/png": "[encoded data removed]",
      "text/plain": [
       "<matplotlib.figure.Figure at 0x2b1c36fb6f10>"
      ]
     },
     "metadata": {},
     "output_type": "display_data"
    }
   ],
   "source": [
    "fig, ax = plt.subplots()\n",
    "ax.hist(ISIs)\n",
    "ax.set_title('Histogram')\n",
    "ax.set_xlabel('Value')\n",
    "ax.set_ylabel('Frequency')\n",
    "fig.show()\n",
    "print('Mean ISI is {0}'.format(np.mean(ISIs)))"
   ]
  }
 ],
 "metadata": {
  "anaconda-cloud": {},
  "kernelspec": {
   "display_name": "Python [default]",
   "language": "python",
   "name": "python2"
  },
  "language_info": {
   "codemirror_mode": {
    "name": "ipython",
    "version": 2
   },
   "file_extension": ".py",
   "mimetype": "text/x-python",
   "name": "python",
   "nbconvert_exporter": "python",
   "pygments_lexer": "ipython2",
   "version": "2.7.12"
  }
 },
 "nbformat": 4,
 "nbformat_minor": 1
}
