{
 "cells": [
  {
   "cell_type": "markdown",
   "metadata": {},
   "source": [
    "# HW02: Save transformation matrices"
   ]
  },
  {
   "cell_type": "code",
   "execution_count": 1,
   "metadata": {
    "collapsed": true
   },
   "outputs": [],
   "source": [
    "from glob import glob\n",
    "import shutil\n",
    "from os.path import basename, join"
   ]
  },
  {
   "cell_type": "code",
   "execution_count": 2,
   "metadata": {
    "collapsed": false
   },
   "outputs": [],
   "source": [
    "repo = '/scratch/PSB6351_2017/students/salo/'\n",
    "data_dir = join(repo, 'data/')\n",
    "out_dir = join(repo, 'week06/mat_files/')\n",
    "subjects = sorted([basename(f) for f in glob(join(data_dir, '*'))])\n",
    "for s in subjects:\n",
    "    mat_file = glob(join(data_dir, s, 'preproc/fsl_reg_file/*'))[0]\n",
    "    out_file = join(out_dir, '{0}-xfm.mat'.format(s))\n",
    "    shutil.copyfile(mat_file, out_file)"
   ]
  }
 ],
 "metadata": {
  "anaconda-cloud": {},
  "kernelspec": {
   "display_name": "Python [default]",
   "language": "python",
   "name": "python2"
  },
  "language_info": {
   "codemirror_mode": {
    "name": "ipython",
    "version": 2
   },
   "file_extension": ".py",
   "mimetype": "text/x-python",
   "name": "python",
   "nbconvert_exporter": "python",
   "pygments_lexer": "ipython2",
   "version": "2.7.12"
  }
 },
 "nbformat": 4,
 "nbformat_minor": 1
}
