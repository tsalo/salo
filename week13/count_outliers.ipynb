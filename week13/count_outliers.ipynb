{
 "cells": [
  {
   "cell_type": "markdown",
   "metadata": {},
   "source": [
    "# Count number of motion outliers"
   ]
  },
  {
   "cell_type": "code",
   "execution_count": 1,
   "metadata": {
    "collapsed": true
   },
   "outputs": [],
   "source": [
    "%matplotlib inline\n",
    "from __future__ import division\n",
    "import re\n",
    "import matplotlib.pyplot as plt\n",
    "import seaborn as sns\n",
    "import numpy as np\n",
    "from glob import glob\n",
    "from os.path import join, basename, splitext\n",
    "import pandas as pd"
   ]
  },
  {
   "cell_type": "code",
   "execution_count": 2,
   "metadata": {
    "collapsed": true
   },
   "outputs": [],
   "source": [
    "# Directions per http://web.mit.edu/fsl_v5.0.8/fsl/doc/wiki/POSSUM(2f)UserGuide.html\n",
    "rot_dirs = ['Pitch', 'Roll', 'Yaw']\n",
    "trans_dirs = ['X', 'Y', 'Z']\n",
    "colors = sns.color_palette('husl')\n",
    "\n",
    "data_dir = '/scratch/PSB6351_2017/students/salo/data/preproc/'\n",
    "out_dir = '/scratch/PSB6351_2017/students/salo/week13/outliers/'\n",
    "\n",
    "sns.set_style('whitegrid')\n",
    "plt.rcParams['figure.figsize'] = [12, 8]"
   ]
  },
  {
   "cell_type": "code",
   "execution_count": 3,
   "metadata": {
    "collapsed": false
   },
   "outputs": [],
   "source": [
    "# Get ylims\n",
    "subjects = [f for f in glob(join(data_dir, 'sub-*'))]\n",
    "r_lim = 0.\n",
    "t_lim = 0.\n",
    "for s in subjects:\n",
    "    motpar_files = sorted([f for f in glob(join(s, 'preproc/motion/*.par'))])\n",
    "    for f in motpar_files:\n",
    "        dat = np.loadtxt(f)\n",
    "        t, r = dat[:, :3], dat[:, 3:]\n",
    "        r_lim = np.max([r_lim, np.max(np.abs(r))])\n",
    "        t_lim = np.max([t_lim, np.max(np.abs(t))])\n",
    "r_lim = np.ceil(r_lim * 100.) / 100.\n",
    "t_lim = np.ceil(t_lim * 10.) / 10."
   ]
  },
  {
   "cell_type": "code",
   "execution_count": 4,
   "metadata": {
    "collapsed": true
   },
   "outputs": [],
   "source": [
    "def framewise_displacement(vals):\n",
    "    mot_pars = np.copy(vals)\n",
    "    mot_pars[:, 3:] = mot_pars[:, 3:] * 50  # Convert radians to mm\n",
    "    mot_pars = np.vstack((np.array([[0, 0, 0, 0, 0, 0]]),\n",
    "                          np.diff(mot_pars, axis=0)))\n",
    "    fd = np.sum(np.abs(mot_pars), axis=1)\n",
    "    return fd"
   ]
  },
  {
   "cell_type": "code",
   "execution_count": 5,
   "metadata": {
    "collapsed": false
   },
   "outputs": [],
   "source": [
    "thresholds = [0.5, 1.0]\n",
    "thresh_names = ['0.5', '1.0']\n",
    "subjects = sorted([basename(f) for f in glob(join(data_dir, 'sub-*'))])\n",
    "rows = []\n",
    "for s in subjects:\n",
    "    motpar_files = sorted([basename(f) for f in glob(join(data_dir, s, 'preproc/motion/*.par'))])\n",
    "    tasks = sorted(list(set([re.search('task-(.*)_run', f).group(1) for f in motpar_files])))\n",
    "    for t in tasks:\n",
    "        rel_files = sorted([f for f in motpar_files if 'task-{0}_run'.format(t) in f])\n",
    "        n_runs = len(rel_files)\n",
    "        for run in range(n_runs):\n",
    "            run_name = re.search('(run-[0-9][0-9])', rel_files[run]).group(0)\n",
    "            dat = np.loadtxt(join(data_dir, s, 'preproc/motion/', rel_files[run]))\n",
    "            fd = framewise_displacement(dat)\n",
    "            prop_bad = [0 for _ in range(len(thresholds))]\n",
    "            for i in range(len(thresholds)):\n",
    "                cens_vols = np.where(fd>thresholds[i])[0]\n",
    "                bef_cens_vols = cens_vols - 1\n",
    "                aft_cens_vols = cens_vols + 1\n",
    "                aft2_cens_vols = cens_vols + 2\n",
    "                all_vols = np.array(range(len(fd)))\n",
    "                \n",
    "                # Combine bad vols, vols before, and vols after\n",
    "                all_cens_vols = np.union1d(bef_cens_vols, cens_vols)\n",
    "                all_cens_vols = np.union1d(all_cens_vols, aft_cens_vols)\n",
    "                all_cens_vols = np.union1d(all_cens_vols, aft2_cens_vols)\n",
    "                \n",
    "                # Remove censored index outside range\n",
    "                red_cens_vols = np.intersect1d(all_vols, all_cens_vols)\n",
    "                np.savetxt(join(out_dir, 'FD{0}/{1}-{2}-{3}.txt'.format(thresh_names[i],\n",
    "                                                                        s, t, run_name)),\n",
    "                           red_cens_vols, fmt='%i')\n",
    "                prop_bad[i] = len(red_cens_vols) / len(all_vols)\n",
    "            rows += [[s, t, run] + prop_bad]\n",
    "df = pd.DataFrame(data=rows, columns=['Subject', 'Task', 'Run']+['FD>'+th for th in thresh_names])\n",
    "df.to_csv('outliers/hw.csv', index=False)"
   ]
  }
 ],
 "metadata": {
  "anaconda-cloud": {},
  "kernelspec": {
   "display_name": "Python [default]",
   "language": "python",
   "name": "python2"
  },
  "language_info": {
   "codemirror_mode": {
    "name": "ipython",
    "version": 2
   },
   "file_extension": ".py",
   "mimetype": "text/x-python",
   "name": "python",
   "nbconvert_exporter": "python",
   "pygments_lexer": "ipython2",
   "version": "2.7.12"
  }
 },
 "nbformat": 4,
 "nbformat_minor": 1
}
